{
  "nbformat": 4,
  "nbformat_minor": 0,
  "metadata": {
    "colab": {
      "name": "Tweet Delete within a date Range",
      "provenance": [],
      "toc_visible": true
    },
    "kernelspec": {
      "name": "python3",
      "display_name": "Python 3"
    }
  },
  "cells": [
    {
      "cell_type": "code",
      "metadata": {
        "id": "5x_KYUaluLo5",
        "colab_type": "code",
        "colab": {
          "base_uri": "https://localhost:8080/",
          "height": 255
        },
        "outputId": "2e2b8f5c-b957-4561-c41d-13fd8ee01a2b"
      },
      "source": [
        "#=============================================================\n",
        "# Uninstall default twitter package (if you have already\n",
        "# installed it as it doesn't contains the twitter.Api method)\n",
        "# after that install python-twitter package\n",
        "#=============================================================\n",
        "\n",
        "!pip uninstall twitter\n",
        "!pip install python-twitter"
      ],
      "execution_count": 3,
      "outputs": [
        {
          "output_type": "stream",
          "text": [
            "\u001b[33mWARNING: Skipping twitter as it is not installed.\u001b[0m\n",
            "Collecting python-twitter\n",
            "\u001b[?25l  Downloading https://files.pythonhosted.org/packages/b3/a9/2eb36853d8ca49a70482e2332aa5082e09b3180391671101b1612e3aeaf1/python_twitter-3.5-py2.py3-none-any.whl (67kB)\n",
            "\u001b[K     |████████████████████████████████| 71kB 1.9MB/s \n",
            "\u001b[?25hRequirement already satisfied: requests-oauthlib in /usr/local/lib/python3.6/dist-packages (from python-twitter) (1.3.0)\n",
            "Requirement already satisfied: requests in /usr/local/lib/python3.6/dist-packages (from python-twitter) (2.23.0)\n",
            "Requirement already satisfied: future in /usr/local/lib/python3.6/dist-packages (from python-twitter) (0.16.0)\n",
            "Requirement already satisfied: oauthlib>=3.0.0 in /usr/local/lib/python3.6/dist-packages (from requests-oauthlib->python-twitter) (3.1.0)\n",
            "Requirement already satisfied: certifi>=2017.4.17 in /usr/local/lib/python3.6/dist-packages (from requests->python-twitter) (2020.6.20)\n",
            "Requirement already satisfied: idna<3,>=2.5 in /usr/local/lib/python3.6/dist-packages (from requests->python-twitter) (2.10)\n",
            "Requirement already satisfied: urllib3!=1.25.0,!=1.25.1,<1.26,>=1.21.1 in /usr/local/lib/python3.6/dist-packages (from requests->python-twitter) (1.24.3)\n",
            "Requirement already satisfied: chardet<4,>=3.0.2 in /usr/local/lib/python3.6/dist-packages (from requests->python-twitter) (3.0.4)\n",
            "Installing collected packages: python-twitter\n",
            "Successfully installed python-twitter-3.5\n"
          ],
          "name": "stdout"
        }
      ]
    },
    {
      "cell_type": "code",
      "metadata": {
        "id": "ug73f71SZfwk",
        "colab_type": "code",
        "colab": {}
      },
      "source": [
        "# ======================================================================================\n",
        "# Import statements\n",
        "# ======================================================================================\n",
        "\n",
        "import sys\n",
        "import time\n",
        "from datetime import datetime\n",
        "import os\n",
        "import twitter\n",
        "from dateutil.parser import parse\n",
        "import numpy as np\n",
        "import pandas as pd\n",
        "import json"
      ],
      "execution_count": 26,
      "outputs": []
    },
    {
      "cell_type": "code",
      "metadata": {
        "id": "P-TKBKVFmzbh",
        "colab_type": "code",
        "colab": {}
      },
      "source": [
        "# ======================================================================================\n",
        "# API Credentials\n",
        "# ======================================================================================\n",
        "\n",
        "CONSUMER_KEY = \"\"\n",
        "CONSUMER_SECRET = \"\"\n",
        "ACCESS_TOKEN_KEY = \"\"\n",
        "ACCESS_TOKEN_SECRET = \"\"\n",
        "\n",
        "\n",
        "# ======================================================================================\n",
        "# Initialize\n",
        "# ======================================================================================\n",
        "\n",
        "api = twitter.Api(consumer_key = CONSUMER_KEY,\n",
        "                  consumer_secret = CONSUMER_SECRET,\n",
        "                  access_token_key = ACCESS_TOKEN_KEY,\n",
        "                  access_token_secret = ACCESS_TOKEN_SECRET)\n",
        "\n",
        "\n",
        "# ======================================================================================\n",
        "# Function to delete tweet by ID\n",
        "# ======================================================================================\n",
        "\n",
        "def deleteTweet(tweetId):\n",
        "   try:\n",
        "     print(\"Deleting tweet #{0})\".format(tweetId))\n",
        "     api.DestroyStatus(tweetId)\n",
        "     print(\"Deleted\")\n",
        "   \n",
        "   except Exception as err:\n",
        "      print(\"Exception: %s\\n\" % err)"
      ],
      "execution_count": 7,
      "outputs": []
    },
    {
      "cell_type": "code",
      "metadata": {
        "id": "VMfh7W1m1E_K",
        "colab_type": "code",
        "colab": {}
      },
      "source": [
        "# ======================================================================================\n",
        "# ======================================================================================\n",
        "\n",
        "myData = None\n",
        "with open('editedTweet.json') as json_file:\n",
        "    myData = json.load(json_file)"
      ],
      "execution_count": 18,
      "outputs": []
    },
    {
      "cell_type": "code",
      "metadata": {
        "id": "nZOrRgXa1E7R",
        "colab_type": "code",
        "colab": {
          "base_uri": "https://localhost:8080/",
          "height": 357
        },
        "outputId": "65e0d624-963b-4d27-bd1a-4846ae434535"
      },
      "source": [
        "# ======================================================================================\n",
        "# Just printing one object to show the contents of tweet object\n",
        "# ======================================================================================\n",
        "\n",
        "myData[\"data\"][0]"
      ],
      "execution_count": 40,
      "outputs": [
        {
          "output_type": "execute_result",
          "data": {
            "text/plain": [
              "{'tweet': {'created_at': 'Thu Sep 11 12:26:39 +0000 2014',\n",
              "  'display_text_range': ['0', '137'],\n",
              "  'entities': {'hashtags': [],\n",
              "   'symbols': [],\n",
              "   'urls': [{'display_url': 'fb.me/3oL0wLoge',\n",
              "     'expanded_url': 'http://fb.me/3oL0wLoge',\n",
              "     'indices': ['115', '137'],\n",
              "     'url': 'http://t.co/spMVNltxDk'}],\n",
              "   'user_mentions': []},\n",
              "  'favorite_count': '0',\n",
              "  'favorited': False,\n",
              "  'full_text': 'for galaxy y , galaxy pocket, galaxy ace, galaxy music, galaxy y dous lite and any other low end android device... http://t.co/spMVNltxDk',\n",
              "  'id': '510041733099712513',\n",
              "  'id_str': '510041733099712513',\n",
              "  'lang': 'en',\n",
              "  'possibly_sensitive': False,\n",
              "  'retweet_count': '0',\n",
              "  'retweeted': False,\n",
              "  'source': '<a href=\"http://www.facebook.com/twitter\" rel=\"nofollow\">Facebook</a>',\n",
              "  'truncated': False}}"
            ]
          },
          "metadata": {
            "tags": []
          },
          "execution_count": 40
        }
      ]
    },
    {
      "cell_type": "code",
      "metadata": {
        "id": "RFmz14Gvz_B6",
        "colab_type": "code",
        "colab": {}
      },
      "source": [
        "# ======================================================================================\n",
        "# Select date range within which tweets will be deleted rememeber the UTC offset here\n",
        "# ======================================================================================\n",
        "\n",
        "range_start = datetime.strptime('Sep 10 00:00:00 +0000 2012','%b %d %H:%M:%S %z %Y')\n",
        "range_end = datetime.strptime('Sep 10 00:00:00 +0000 2017','%b %d %H:%M:%S %z %Y')\n",
        "\n",
        "# ======================================================================================\n",
        "# I am creating a list of tweet IDs for consideration, where tweetsToBeDeleted will be\n",
        "# used for deleting tweet\n",
        "# ======================================================================================\n",
        "\n",
        "tweetsToBeDeleted = []\n",
        "tweetsToBeIgnored = []\n",
        "\n",
        "for element in myData[\"data\"]:\n",
        "  tweet_post_time = datetime.strptime(element[\"tweet\"][\"created_at\"],'%a %b %d %H:%M:%S %z %Y')\n",
        "  if (tweet_post_time>= range_start and tweet_post_time<= range_end ):\n",
        "    tweetsToBeDeleted.append(element[\"tweet\"][\"id_str\"])\n",
        "  else:\n",
        "    tweetsToBeIgnored.append(element[\"tweet\"][\"id_str\"])\n",
        "\n",
        "print(len(tweetsToBeDeleted),len(tweetsToBeIgnored))"
      ],
      "execution_count": 32,
      "outputs": []
    },
    {
      "cell_type": "code",
      "metadata": {
        "id": "X3O8avugz_E1",
        "colab_type": "code",
        "colab": {}
      },
      "source": [
        "# ======================================================================================\n",
        "# Now iterate over the list and pass each id to delete function, remember if you have\n",
        "# over 1000+ tweets make sure to remove the print statement from delete function as it \n",
        "# will print id of each tweet while deleting\n",
        "# ======================================================================================\n",
        "\n",
        "for id in tweetsToBeDeleted:\n",
        "  deleteTweet(id)"
      ],
      "execution_count": 38,
      "outputs": []
    }
  ]
}